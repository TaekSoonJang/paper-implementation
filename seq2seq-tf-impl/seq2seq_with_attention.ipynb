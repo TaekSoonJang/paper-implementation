{
 "cells": [
  {
   "cell_type": "code",
   "execution_count": 3,
   "metadata": {
    "collapsed": false,
    "deletable": true,
    "editable": true
   },
   "outputs": [
    {
     "name": "stderr",
     "output_type": "stream",
     "text": [
      "//anaconda/envs/aind/lib/python3.6/importlib/_bootstrap.py:205: RuntimeWarning: compiletime version 3.5 of module 'tensorflow.python.framework.fast_tensor_util' does not match runtime version 3.6\n",
      "  return f(*args, **kwds)\n"
     ]
    }
   ],
   "source": [
    "import tensorflow as tf\n",
    "import numpy as np\n",
    "from tensorflow.python.layers.core import Dense\n",
    "from sklearn.model_selection import train_test_split"
   ]
  },
  {
   "cell_type": "code",
   "execution_count": 4,
   "metadata": {
    "collapsed": false,
    "deletable": true,
    "editable": true
   },
   "outputs": [
    {
     "data": {
      "text/plain": [
       "'1.4.0'"
      ]
     },
     "execution_count": 4,
     "metadata": {},
     "output_type": "execute_result"
    }
   ],
   "source": [
    "tf.__version__"
   ]
  },
  {
   "cell_type": "code",
   "execution_count": 5,
   "metadata": {
    "collapsed": true,
    "deletable": true,
    "editable": true
   },
   "outputs": [],
   "source": [
    "def read_file_by_line(fname, sentence=False):\n",
    "    ret = []\n",
    "    with open(fname, encoding='utf-8') as f:\n",
    "        for line in f:\n",
    "            line = line.replace('\\n', '')\n",
    "            if sentence:\n",
    "                line = line.split(' ')\n",
    "            ret.append(line)\n",
    "    return ret"
   ]
  },
  {
   "cell_type": "code",
   "execution_count": 6,
   "metadata": {
    "collapsed": false,
    "deletable": true,
    "editable": true
   },
   "outputs": [],
   "source": [
    "FLAG = 'char'\n",
    "if FLAG is 'nmt':\n",
    "    train_input = read_file_by_line('./data/train.en', sentence=True)\n",
    "    train_target = read_file_by_line('./data/train.vi', sentence=True)\n",
    "    vocab_input = read_file_by_line('./data/vocab.en')\n",
    "    vocab_target = read_file_by_line('./data/vocab.vi')\n",
    "    vocab_input = ['<pad>'] + vocab_input\n",
    "    vocab_target = ['<pad>'] + vocab_target\n",
    "else:\n",
    "    train_input = read_file_by_line('./char-data/letters_source.txt')\n",
    "    train_input = [list(word) for word in train_input]\n",
    "    train_target = read_file_by_line('./char-data/letters_target.txt')\n",
    "    train_target = [list(word) for word in train_target]\n",
    "    \n",
    "    input_set_words = list(set([c for word in train_input for c in word]))\n",
    "    target_set_words = list(set([c for word in train_input for c in word]))\n",
    "    vocab_input = ['<pad>', '<unk>', '<s>', '</s>'] + input_set_words\n",
    "    vocab_target = ['<pad>', '<unk>', '<s>', '</s>'] + target_set_words"
   ]
  },
  {
   "cell_type": "code",
   "execution_count": 7,
   "metadata": {
    "collapsed": true,
    "deletable": true,
    "editable": true
   },
   "outputs": [],
   "source": [
    "vocab_input_len = len(vocab_input)\n",
    "vocab_target_len = len(vocab_target)"
   ]
  },
  {
   "cell_type": "code",
   "execution_count": 8,
   "metadata": {
    "collapsed": false,
    "deletable": true,
    "editable": true
   },
   "outputs": [],
   "source": [
    "vocab_inp_to_int = {word: i for i, word in enumerate(vocab_input)}\n",
    "vocab_tgt_to_int = {word: i for i, word in enumerate(vocab_target)}\n",
    "tgt_int_to_char = { i: c for c, i in vocab_tgt_to_int.items()}"
   ]
  },
  {
   "cell_type": "code",
   "execution_count": 9,
   "metadata": {
    "collapsed": false,
    "deletable": true,
    "editable": true
   },
   "outputs": [
    {
     "name": "stdout",
     "output_type": "stream",
     "text": [
      "<pad>:  0\n",
      "<unk> : 1\n",
      "<s>:  2\n",
      "</s>:  3\n"
     ]
    }
   ],
   "source": [
    "print('<pad>: ', vocab_inp_to_int.get('<pad>'))\n",
    "print('<unk> :', vocab_inp_to_int.get('<unk>'))\n",
    "print('<s>: ', vocab_inp_to_int.get('<s>'))\n",
    "print('</s>: ', vocab_inp_to_int.get('</s>'))"
   ]
  },
  {
   "cell_type": "code",
   "execution_count": 10,
   "metadata": {
    "collapsed": true,
    "deletable": true,
    "editable": true
   },
   "outputs": [],
   "source": [
    "enc_input = [[vocab_inp_to_int.get(token, vocab_inp_to_int.get('<unk>')) for token in sentence] for sentence in train_input]\n",
    "enc_target = [[vocab_tgt_to_int.get(token, vocab_tgt_to_int.get('<unk>')) for token in sentence] for sentence in train_target]\n",
    "\n",
    "enc_input, enc_input_test, enc_target, enc_target_test = train_test_split(enc_input, enc_target, test_size=.1)\n",
    "\n",
    "inp_max_len = np.max([len(sentence) for sentence in enc_input])\n",
    "tgt_max_len = np.max([len(sentence) for sentence in enc_target])"
   ]
  },
  {
   "cell_type": "code",
   "execution_count": 21,
   "metadata": {
    "collapsed": true,
    "deletable": true,
    "editable": true
   },
   "outputs": [],
   "source": [
    "emb_size = 20\n",
    "rnn_size = 50\n",
    "rnn_layers = 2\n",
    "learning_rate = 0.001\n",
    "epoch = 80\n",
    "batch_size = 128\n",
    "use_attention = True\n",
    "\n",
    "TGT_START_TOKEN = vocab_tgt_to_int.get('<s>')\n",
    "TGT_END_TOKEN = vocab_tgt_to_int.get('</s>')"
   ]
  },
  {
   "cell_type": "code",
   "execution_count": 22,
   "metadata": {
    "collapsed": true,
    "deletable": true,
    "editable": true
   },
   "outputs": [],
   "source": [
    "def get_data():\n",
    "    enc_input_p = tf.placeholder(tf.int32, [None, None], name=\"input\")\n",
    "    enc_input_len_p = tf.placeholder(tf.int32, [None], name=\"input_length\")\n",
    "    \n",
    "    enc_target_p = tf.placeholder(tf.int32, [None, None])\n",
    "    enc_target_len_p = tf.placeholder(tf.int32, [None], name=\"target_length\")\n",
    "    max_enc_target_len = tf.reduce_max(enc_target_len_p)\n",
    "    \n",
    "    return enc_input_p, enc_input_len_p, enc_target_p, enc_target_len_p, max_enc_target_len"
   ]
  },
  {
   "cell_type": "code",
   "execution_count": 23,
   "metadata": {
    "collapsed": true,
    "deletable": true,
    "editable": true
   },
   "outputs": [],
   "source": [
    "def make_cell(rnn_size):\n",
    "    return tf.contrib.rnn.LSTMCell(num_units=rnn_size,\n",
    "                                           initializer=tf.random_uniform_initializer(-.1, .1))\n",
    "\n",
    "def build_graph(input_data, input_len, target_data, target_len, max_target_len):\n",
    "    # Encoding\n",
    "    enc_embeddings = tf.get_variable('enc_embeddings',\n",
    "                                     [vocab_input_len, emb_size])\n",
    "    enc_emb_output = tf.nn.embedding_lookup(enc_embeddings, input_data)\n",
    "    \n",
    "    encoder_cell = tf.contrib.rnn.MultiRNNCell([make_cell(rnn_size) for _ in range(rnn_layers)])\n",
    "    encoder_output, encoder_state = tf.nn.dynamic_rnn(encoder_cell,\n",
    "                                                      enc_emb_output,\n",
    "                                                      sequence_length=input_len,\n",
    "                                                      dtype=tf.float32)\n",
    "    \n",
    "    decoder_init_state = encoder_state\n",
    "    \n",
    "    # Decoding\n",
    "    batch_size = tf.shape(input_data)[0]\n",
    "    \n",
    "    decoding_input = tf.strided_slice(target_data, [0,0], [batch_size, -1], [1,1])\n",
    "    decoding_input = tf.concat([tf.fill([batch_size, 1], TGT_START_TOKEN), decoding_input], axis=1)\n",
    "    \n",
    "    dec_embeddings = tf.get_variable('dec_embeddings', \n",
    "                                     [vocab_target_len, emb_size], \n",
    "                                     initializer=tf.random_uniform_initializer(-.1, .1))\n",
    "    dec_emb_output = tf.nn.embedding_lookup(dec_embeddings, decoding_input)\n",
    "    \n",
    "    decoder_cell = tf.contrib.rnn.MultiRNNCell([make_cell(rnn_size) for _ in range(rnn_layers)])\n",
    "\n",
    "    # Attention\n",
    "    if use_attention:\n",
    "        attention_mechanism = tf.contrib.seq2seq.LuongAttention(rnn_size, \n",
    "                                                                encoder_output, \n",
    "                                                                memory_sequence_length=input_len)\n",
    "        decoder_cell = tf.contrib.seq2seq.AttentionWrapper(decoder_cell,\n",
    "                                                           attention_mechanism, \n",
    "                                                           attention_layer_size=rnn_size)\n",
    "        decoder_init_state = decoder_cell.zero_state(batch_size, dtype=tf.float32)\n",
    "    \n",
    "    projection_layer = Dense(vocab_target_len, kernel_initializer=tf.truncated_normal_initializer(0.0, 0.1))\n",
    "    \n",
    "    with tf.variable_scope(\"decode\"):\n",
    "        helper = tf.contrib.seq2seq.TrainingHelper(dec_emb_output, target_len)\n",
    "        decoder = tf.contrib.seq2seq.BasicDecoder(decoder_cell, \n",
    "                                                  helper, \n",
    "                                                  decoder_init_state,\n",
    "                                                  output_layer=projection_layer)\n",
    "\n",
    "        train_outputs = tf.contrib.seq2seq.dynamic_decode(decoder,\n",
    "                                                          impute_finished=True,\n",
    "                                                          maximum_iterations=max_target_len)[0]\n",
    "    with tf.variable_scope(\"decode\", reuse=True):\n",
    "        start_tokens = tf.fill([batch_size], TGT_START_TOKEN)\n",
    "        greedy_helper = tf.contrib.seq2seq.GreedyEmbeddingHelper(dec_embeddings, start_tokens, TGT_END_TOKEN)\n",
    "        infer_decoder = tf.contrib.seq2seq.BasicDecoder(decoder_cell, \n",
    "                                                        greedy_helper, \n",
    "                                                        decoder_init_state, \n",
    "                                                        output_layer=projection_layer)\n",
    "        \n",
    "        infer_outputs = tf.contrib.seq2seq.dynamic_decode(infer_decoder, \n",
    "                                                          impute_finished=True, \n",
    "                                                          maximum_iterations=max_target_len)[0]\n",
    "    \n",
    "    return train_outputs, infer_outputs\n",
    "    "
   ]
  },
  {
   "cell_type": "code",
   "execution_count": 24,
   "metadata": {
    "collapsed": true,
    "deletable": true,
    "editable": true
   },
   "outputs": [],
   "source": [
    "def get_batches(X, y, batch_size, pad_value):\n",
    "    def pad(a, max_len, value):\n",
    "        return [i + [value for j in range(max_len - len(i))] for i in a]\n",
    "    \n",
    "    for i in range(0, len(X), batch_size):\n",
    "        X_batch = X[i:i+batch_size]\n",
    "        X_batch_len = [len(X_item) for X_item in X_batch]\n",
    "        X_batch = pad(X_batch, max(X_batch_len), pad_value)\n",
    "        \n",
    "        y_batch = y[i:i+batch_size]\n",
    "        y_batch_len = [len(y_item) for y_item in y_batch]\n",
    "        y_batch = pad(y_batch, max(y_batch_len), pad_value)\n",
    "        \n",
    "        yield X_batch, X_batch_len, y_batch, y_batch_len"
   ]
  },
  {
   "cell_type": "code",
   "execution_count": 25,
   "metadata": {
    "collapsed": false,
    "deletable": true,
    "editable": true
   },
   "outputs": [
    {
     "name": "stdout",
     "output_type": "stream",
     "text": [
      "INFO:tensorflow:Restoring parameters from ./model-attention.ckpt\n",
      "Loss:  3.40126 / Validation Loss:  3.40066  / Epoch:  1\n",
      "Loss:  3.07162 / Validation Loss:  3.08143  / Epoch:  1\n",
      "Loss:  2.77428 / Validation Loss:  2.7651  / Epoch:  2\n",
      "Loss:  2.39495 / Validation Loss:  2.39593  / Epoch:  2\n",
      "Loss:  2.25402 / Validation Loss:  2.26641  / Epoch:  3\n",
      "Loss:  2.04217 / Validation Loss:  2.04087  / Epoch:  3\n",
      "Loss:  1.94127 / Validation Loss:  1.96947  / Epoch:  4\n",
      "Loss:  1.77986 / Validation Loss:  1.79311  / Epoch:  4\n",
      "Loss:  1.66698 / Validation Loss:  1.72994  / Epoch:  5\n",
      "Loss:  1.54523 / Validation Loss:  1.57456  / Epoch:  5\n",
      "Loss:  1.44711 / Validation Loss:  1.51305  / Epoch:  6\n",
      "Loss:  1.33793 / Validation Loss:  1.35126  / Epoch:  6\n",
      "Loss:  1.30794 / Validation Loss:  1.32147  / Epoch:  7\n",
      "Loss:  1.19095 / Validation Loss:  1.23141  / Epoch:  7\n",
      "Loss:  1.12008 / Validation Loss:  1.14377  / Epoch:  8\n",
      "Loss:  1.08758 / Validation Loss:  1.12511  / Epoch:  8\n",
      "Loss:  1.01002 / Validation Loss:  1.0396  / Epoch:  9\n",
      "Loss:  0.995351 / Validation Loss:  1.02396  / Epoch:  9\n",
      "Loss:  0.929934 / Validation Loss:  0.963621  / Epoch:  10\n",
      "Loss:  0.924613 / Validation Loss:  0.939393  / Epoch:  10\n",
      "Loss:  0.857581 / Validation Loss:  0.896973  / Epoch:  11\n",
      "Loss:  0.87563 / Validation Loss:  0.895922  / Epoch:  11\n",
      "Loss:  0.803188 / Validation Loss:  0.840187  / Epoch:  12\n",
      "Loss:  0.824125 / Validation Loss:  0.834926  / Epoch:  12\n",
      "Loss:  0.773737 / Validation Loss:  0.797591  / Epoch:  13\n",
      "Loss:  0.775273 / Validation Loss:  0.766653  / Epoch:  13\n",
      "Loss:  0.751989 / Validation Loss:  0.768918  / Epoch:  14\n",
      "Loss:  0.724341 / Validation Loss:  0.776154  / Epoch:  14\n",
      "Loss:  0.685314 / Validation Loss:  0.712748  / Epoch:  15\n",
      "Loss:  0.695402 / Validation Loss:  0.686392  / Epoch:  15\n",
      "Loss:  0.63166 / Validation Loss:  0.673286  / Epoch:  16\n",
      "Loss:  0.637251 / Validation Loss:  0.646728  / Epoch:  16\n",
      "Loss:  0.599519 / Validation Loss:  0.630798  / Epoch:  17\n",
      "Loss:  0.593204 / Validation Loss:  0.615501  / Epoch:  17\n",
      "Loss:  0.57326 / Validation Loss:  0.604988  / Epoch:  18\n",
      "Loss:  0.556234 / Validation Loss:  0.582456  / Epoch:  18\n",
      "Loss:  0.537467 / Validation Loss:  0.578584  / Epoch:  19\n",
      "Loss:  0.521536 / Validation Loss:  0.547733  / Epoch:  19\n",
      "Loss:  0.507622 / Validation Loss:  0.549163  / Epoch:  20\n",
      "Loss:  0.505354 / Validation Loss:  0.55255  / Epoch:  20\n",
      "Loss:  0.486059 / Validation Loss:  0.520469  / Epoch:  21\n",
      "Loss:  0.580307 / Validation Loss:  0.502765  / Epoch:  21\n",
      "Loss:  0.4562 / Validation Loss:  0.504457  / Epoch:  22\n",
      "Loss:  0.539069 / Validation Loss:  0.487933  / Epoch:  22\n",
      "Loss:  0.474161 / Validation Loss:  0.484918  / Epoch:  23\n",
      "Loss:  0.450037 / Validation Loss:  0.488729  / Epoch:  23\n",
      "Loss:  0.408308 / Validation Loss:  0.518578  / Epoch:  24\n",
      "Loss:  0.407644 / Validation Loss:  0.44456  / Epoch:  24\n",
      "Loss:  0.387468 / Validation Loss:  0.449792  / Epoch:  25\n",
      "Loss:  0.383251 / Validation Loss:  0.430931  / Epoch:  25\n",
      "Loss:  0.358464 / Validation Loss:  0.4294  / Epoch:  26\n",
      "Loss:  0.362651 / Validation Loss:  0.420316  / Epoch:  26\n",
      "Loss:  0.337649 / Validation Loss:  0.407579  / Epoch:  27\n",
      "Loss:  0.3472 / Validation Loss:  0.415754  / Epoch:  27\n",
      "Loss:  0.318911 / Validation Loss:  0.390647  / Epoch:  28\n",
      "Loss:  0.331546 / Validation Loss:  0.40639  / Epoch:  28\n",
      "Loss:  0.303708 / Validation Loss:  0.375863  / Epoch:  29\n",
      "Loss:  0.320663 / Validation Loss:  0.389889  / Epoch:  29\n",
      "Loss:  0.290451 / Validation Loss:  0.36174  / Epoch:  30\n",
      "Loss:  0.308261 / Validation Loss:  0.366659  / Epoch:  30\n",
      "Loss:  0.278795 / Validation Loss:  0.349223  / Epoch:  31\n",
      "Loss:  0.296492 / Validation Loss:  0.344238  / Epoch:  31\n",
      "Loss:  0.269594 / Validation Loss:  0.340648  / Epoch:  32\n",
      "Loss:  0.267111 / Validation Loss:  0.330553  / Epoch:  32\n",
      "Loss:  0.265118 / Validation Loss:  0.32925  / Epoch:  33\n",
      "Loss:  0.263303 / Validation Loss:  0.3341  / Epoch:  33\n",
      "Loss:  0.294093 / Validation Loss:  0.306437  / Epoch:  34\n",
      "Loss:  0.262012 / Validation Loss:  0.321492  / Epoch:  34\n",
      "Loss:  0.240471 / Validation Loss:  0.318283  / Epoch:  35\n",
      "Loss:  0.366858 / Validation Loss:  0.345097  / Epoch:  35\n",
      "Loss:  0.226239 / Validation Loss:  0.310432  / Epoch:  36\n",
      "Loss:  0.219642 / Validation Loss:  0.348949  / Epoch:  36\n",
      "Loss:  0.241072 / Validation Loss:  0.345643  / Epoch:  37\n",
      "Loss:  0.30161 / Validation Loss:  0.324149  / Epoch:  37\n",
      "Loss:  0.223326 / Validation Loss:  0.291395  / Epoch:  38\n",
      "Loss:  0.193741 / Validation Loss:  0.284841  / Epoch:  38\n",
      "Loss:  0.214076 / Validation Loss:  0.259672  / Epoch:  39\n",
      "Loss:  0.179253 / Validation Loss:  0.264721  / Epoch:  39\n",
      "Loss:  0.19688 / Validation Loss:  0.27159  / Epoch:  40\n",
      "Loss:  0.16661 / Validation Loss:  0.255777  / Epoch:  40\n",
      "Loss:  0.17451 / Validation Loss:  0.250712  / Epoch:  41\n",
      "Loss:  0.161927 / Validation Loss:  0.256481  / Epoch:  41\n",
      "Loss:  0.173737 / Validation Loss:  0.250349  / Epoch:  42\n",
      "Loss:  0.156337 / Validation Loss:  0.259793  / Epoch:  42\n",
      "Loss:  0.166549 / Validation Loss:  0.237356  / Epoch:  43\n",
      "Loss:  0.137805 / Validation Loss:  0.232073  / Epoch:  43\n",
      "Loss:  0.17767 / Validation Loss:  0.220338  / Epoch:  44\n",
      "Loss:  0.138217 / Validation Loss:  0.21363  / Epoch:  44\n",
      "Loss:  0.150987 / Validation Loss:  0.209342  / Epoch:  45\n",
      "Loss:  0.12933 / Validation Loss:  0.216276  / Epoch:  45\n",
      "Loss:  0.148701 / Validation Loss:  0.19432  / Epoch:  46\n",
      "Loss:  0.129472 / Validation Loss:  0.237687  / Epoch:  46\n",
      "Loss:  0.161978 / Validation Loss:  0.209693  / Epoch:  47\n",
      "Loss:  0.132333 / Validation Loss:  0.201512  / Epoch:  47\n",
      "Loss:  0.175159 / Validation Loss:  0.184378  / Epoch:  48\n",
      "Loss:  0.12646 / Validation Loss:  0.196764  / Epoch:  48\n",
      "Loss:  0.136604 / Validation Loss:  0.17237  / Epoch:  49\n",
      "Loss:  0.115417 / Validation Loss:  0.212853  / Epoch:  49\n",
      "Loss:  0.134813 / Validation Loss:  0.173342  / Epoch:  50\n",
      "Loss:  0.108282 / Validation Loss:  0.209765  / Epoch:  50\n",
      "Loss:  0.145379 / Validation Loss:  0.174722  / Epoch:  51\n",
      "Loss:  0.111873 / Validation Loss:  0.208459  / Epoch:  51\n",
      "Loss:  0.14709 / Validation Loss:  0.167254  / Epoch:  52\n",
      "Loss:  0.0977333 / Validation Loss:  0.199562  / Epoch:  52\n",
      "Loss:  0.119699 / Validation Loss:  0.142884  / Epoch:  53\n",
      "Loss:  0.0856075 / Validation Loss:  0.154921  / Epoch:  53\n",
      "Loss:  0.105379 / Validation Loss:  0.142407  / Epoch:  54\n",
      "Loss:  0.0928412 / Validation Loss:  0.15285  / Epoch:  54\n",
      "Loss:  0.126598 / Validation Loss:  0.143013  / Epoch:  55\n",
      "Loss:  0.0815971 / Validation Loss:  0.146938  / Epoch:  55\n",
      "Loss:  0.0976408 / Validation Loss:  0.154384  / Epoch:  56\n",
      "Loss:  0.0882224 / Validation Loss:  0.132044  / Epoch:  56\n",
      "Loss:  0.119436 / Validation Loss:  0.166014  / Epoch:  57\n",
      "Loss:  0.107478 / Validation Loss:  0.191695  / Epoch:  57\n",
      "Loss:  0.142 / Validation Loss:  0.163352  / Epoch:  58\n",
      "Loss:  0.087157 / Validation Loss:  0.173393  / Epoch:  58\n",
      "Loss:  0.147483 / Validation Loss:  0.161432  / Epoch:  59\n",
      "Loss:  0.0647366 / Validation Loss:  0.129937  / Epoch:  59\n",
      "Loss:  0.124566 / Validation Loss:  0.137843  / Epoch:  60\n",
      "Loss:  0.0632188 / Validation Loss:  0.12358  / Epoch:  60\n",
      "Loss:  0.119221 / Validation Loss:  0.124411  / Epoch:  61\n",
      "Loss:  0.0702582 / Validation Loss:  0.129085  / Epoch:  61\n",
      "Loss:  0.0776419 / Validation Loss:  0.121615  / Epoch:  62\n",
      "Loss:  0.074042 / Validation Loss:  0.137177  / Epoch:  62\n",
      "Loss:  0.0730059 / Validation Loss:  0.117769  / Epoch:  63\n",
      "Loss:  0.056762 / Validation Loss:  0.154079  / Epoch:  63\n",
      "Loss:  0.120456 / Validation Loss:  0.264141  / Epoch:  64\n",
      "Loss:  0.0699393 / Validation Loss:  0.210762  / Epoch:  64\n",
      "Loss:  0.0792261 / Validation Loss:  0.110794  / Epoch:  65\n",
      "Loss:  0.0681886 / Validation Loss:  0.117163  / Epoch:  65\n",
      "Loss:  0.110708 / Validation Loss:  0.117586  / Epoch:  66\n",
      "Loss:  0.076906 / Validation Loss:  0.125337  / Epoch:  66\n",
      "Loss:  0.0673048 / Validation Loss:  0.101905  / Epoch:  67\n",
      "Loss:  0.050207 / Validation Loss:  0.10772  / Epoch:  67\n",
      "Loss:  0.0608305 / Validation Loss:  0.119797  / Epoch:  68\n",
      "Loss:  0.0415319 / Validation Loss:  0.0928473  / Epoch:  68\n",
      "Loss:  0.0688822 / Validation Loss:  0.0962516  / Epoch:  69\n",
      "Loss:  0.0440848 / Validation Loss:  0.113949  / Epoch:  69\n",
      "Loss:  0.0537365 / Validation Loss:  0.0878344  / Epoch:  70\n",
      "Loss:  0.0422958 / Validation Loss:  0.0847639  / Epoch:  70\n",
      "Loss:  0.055401 / Validation Loss:  0.12443  / Epoch:  71\n",
      "Loss:  0.0353053 / Validation Loss:  0.0844141  / Epoch:  71\n",
      "Loss:  0.0740176 / Validation Loss:  0.085618  / Epoch:  72\n",
      "Loss:  0.0428578 / Validation Loss:  0.0874052  / Epoch:  72\n",
      "Loss:  0.0617866 / Validation Loss:  0.0969881  / Epoch:  73\n",
      "Loss:  0.0520953 / Validation Loss:  0.0979051  / Epoch:  73\n",
      "Loss:  0.0457852 / Validation Loss:  0.0990824  / Epoch:  74\n",
      "Loss:  0.0506589 / Validation Loss:  0.0931097  / Epoch:  74\n",
      "Loss:  0.065165 / Validation Loss:  0.144684  / Epoch:  75\n",
      "Loss:  0.039792 / Validation Loss:  0.0772888  / Epoch:  75\n",
      "Loss:  0.0730142 / Validation Loss:  0.0917483  / Epoch:  76\n",
      "Loss:  0.0349164 / Validation Loss:  0.087324  / Epoch:  76\n",
      "Loss:  0.0515934 / Validation Loss:  0.112628  / Epoch:  77\n",
      "Loss:  0.0271716 / Validation Loss:  0.0828798  / Epoch:  77\n",
      "Loss:  0.0373896 / Validation Loss:  0.0880688  / Epoch:  78\n",
      "Loss:  0.0272549 / Validation Loss:  0.0702406  / Epoch:  78\n",
      "Loss:  0.0352174 / Validation Loss:  0.06244  / Epoch:  79\n",
      "Loss:  0.0304627 / Validation Loss:  0.0609023  / Epoch:  79\n",
      "Loss:  0.0356444 / Validation Loss:  0.0634554  / Epoch:  80\n",
      "Loss:  0.0280163 / Validation Loss:  0.0677426  / Epoch:  80\n",
      "################## Saved!! ##################\n"
     ]
    }
   ],
   "source": [
    "ckpt = './model.ckpt'\n",
    "if use_attention:\n",
    "    ckpt = './model-attention.ckpt'\n",
    "    \n",
    "tf.reset_default_graph()\n",
    "test_inp_data_batch, test_inp_data_len, test_tgt_data_batch, test_tgt_data_len = next(\n",
    "    get_batches(enc_input_test, enc_target_test, batch_size, vocab_inp_to_int.get('<pad>')))\n",
    "with tf.Session() as sess:\n",
    "    input_data, input_len, target_data, target_len, max_target_len = get_data()\n",
    "    \n",
    "    train_outputs, infer_outputs = build_graph(input_data, input_len, target_data, target_len, max_target_len)\n",
    "    \n",
    "    # For training\n",
    "    masks = tf.sequence_mask(target_len, max_target_len, dtype=tf.float32)\n",
    "    loss = tf.contrib.seq2seq.sequence_loss(train_outputs.rnn_output, target_data, masks)\n",
    "    optimizer = tf.train.AdamOptimizer(learning_rate)\n",
    "    gradients = optimizer.compute_gradients(loss)\n",
    "    clipped_grad = [(tf.clip_by_value(grad, -5., 5.), var) for grad, var in gradients if grad is not None]\n",
    "    train_op = optimizer.apply_gradients(clipped_grad)\n",
    "    \n",
    "    # For inference\n",
    "    tf.identity(infer_outputs.sample_id, name=\"inference_logit\")\n",
    "    \n",
    "    saver = tf.train.Saver()\n",
    "    try:\n",
    "        saver.restore(sess, ckpt)\n",
    "    except tf.errors.NotFoundError:\n",
    "        print('No model saved')\n",
    "    \n",
    "    sess.run(tf.global_variables_initializer())\n",
    "    \n",
    "    for epoch_i in range(1, epoch+1):        \n",
    "        for i, (inp_data_batch, inp_data_len, tgt_data_batch, tgt_data_len) in enumerate(\n",
    "            get_batches(enc_input, enc_target, batch_size, vocab_inp_to_int.get('<pad>'))):\n",
    "            loss_eval, _ = sess.run([loss, train_op], \n",
    "                                    feed_dict={\n",
    "                                        input_data: inp_data_batch,\n",
    "                                        input_len: inp_data_len,\n",
    "                                        target_data: tgt_data_batch,\n",
    "                                        target_len: tgt_data_len})\n",
    "            if i % 50 == 0:\n",
    "                valid_loss_eval = sess.run(loss, feed_dict={\n",
    "                    input_data: test_inp_data_batch,\n",
    "                    input_len: test_inp_data_len,\n",
    "                    target_data: test_tgt_data_batch,\n",
    "                    target_len: test_tgt_data_len\n",
    "                })\n",
    "                print(\"Loss: \", loss_eval, \"/ Validation Loss: \", valid_loss_eval, \" / Epoch: \", epoch_i)\n",
    "    \n",
    "    saver.save(sess, ckpt)\n",
    "    print('################## Saved!! ##################')            "
   ]
  },
  {
   "cell_type": "code",
   "execution_count": 26,
   "metadata": {
    "collapsed": true,
    "deletable": true,
    "editable": true
   },
   "outputs": [],
   "source": [
    "def predict(text):\n",
    "    text_tokens = list(text)\n",
    "    if FLAG == 'nmt':\n",
    "        text_tokens = text.split(' ')\n",
    "    text_ids = [vocab_tgt_to_int.get(c, vocab_tgt_to_int['<unk>']) for c in text_tokens]\n",
    "    text_ids_len = [len(text_ids)]\n",
    "    \n",
    "    prediction_graph = tf.Graph()\n",
    "    with tf.Session(graph=prediction_graph) as sess:\n",
    "        loader = tf.train.import_meta_graph(ckpt + '.meta')\n",
    "        loader.restore(sess, ckpt)\n",
    "\n",
    "        # Placeholder\n",
    "        input_data = prediction_graph.get_tensor_by_name(\"input:0\")\n",
    "        input_length = prediction_graph.get_tensor_by_name(\"input_length:0\")\n",
    "        target_length = prediction_graph.get_tensor_by_name(\"target_length:0\")\n",
    "        \n",
    "        # Logit\n",
    "        inference_logit = prediction_graph.get_tensor_by_name(\"inference_logit:0\")\n",
    "        \n",
    "        sample_ids = sess.run(inference_logit, feed_dict={\n",
    "            input_data: [text_ids]*batch_size,\n",
    "            input_length: [len(text_ids)]*batch_size,\n",
    "            target_length: [len(text_ids)]*batch_size\n",
    "        })\n",
    "        \n",
    "        return ' '.join([tgt_int_to_char[i] for i in sample_ids[0]])\n"
   ]
  },
  {
   "cell_type": "code",
   "execution_count": 28,
   "metadata": {
    "collapsed": false,
    "deletable": true,
    "editable": true
   },
   "outputs": [
    {
     "name": "stdout",
     "output_type": "stream",
     "text": [
      "INFO:tensorflow:Restoring parameters from ./model-attention.ckpt\n"
     ]
    },
    {
     "data": {
      "text/plain": [
       "'g h i m o q w'"
      ]
     },
     "execution_count": 28,
     "metadata": {},
     "output_type": "execute_result"
    }
   ],
   "source": [
    "predict('qmwoihg')"
   ]
  }
 ],
 "metadata": {
  "kernelspec": {
   "display_name": "Python 3",
   "language": "python",
   "name": "python3"
  },
  "language_info": {
   "codemirror_mode": {
    "name": "ipython",
    "version": 3
   },
   "file_extension": ".py",
   "mimetype": "text/x-python",
   "name": "python",
   "nbconvert_exporter": "python",
   "pygments_lexer": "ipython3",
   "version": "3.6.0"
  }
 },
 "nbformat": 4,
 "nbformat_minor": 2
}
