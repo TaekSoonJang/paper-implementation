{
 "cells": [
  {
   "cell_type": "markdown",
   "metadata": {},
   "source": [
    "# Implemntation of Seq2Seq with Bahdanau attention\n",
    "\n",
    "(Reference: [Neural Machine Translation by Jointly Learning to Align and Translate by Dzmitry Bahdanau et al (2015)](https://arxiv.org/abs/1409.0473))\n",
    "\n",
    "A few things to note:\n",
    "\n",
    "* For brevity, I fixed all inputs at a max_length.\n",
    "* Because of my low computing power, I changed a dataset from machine translation to character ordering.\n",
    "* I tried not using high level Tensorflow RNN API to clearly show how the method works."
   ]
  },
  {
   "cell_type": "code",
   "execution_count": 161,
   "metadata": {
    "collapsed": false,
    "deletable": true,
    "editable": true
   },
   "outputs": [],
   "source": [
    "%matplotlib inline\n",
    "import tensorflow as tf\n",
    "import numpy as np\n",
    "import matplotlib.pyplot as plt\n",
    "import datahelper"
   ]
  },
  {
   "cell_type": "markdown",
   "metadata": {
    "deletable": true,
    "editable": true
   },
   "source": [
    "## Hyperparameters"
   ]
  },
  {
   "cell_type": "code",
   "execution_count": 180,
   "metadata": {
    "collapsed": false,
    "deletable": true,
    "editable": true
   },
   "outputs": [],
   "source": [
    "epoch = 5\n",
    "batch_size = 80\n",
    "max_length = 30\n",
    "X_vocab_size = len(vocab_to_int)\n",
    "y_vocab_size = len(vocab_to_int)\n",
    "embed_size = 20\n",
    "rnn_hidden_unit = 50\n",
    "align_hidden_unit = rnn_hidden_unit\n",
    "maxout_hidden_unit = rnn_hidden_unit // 2"
   ]
  },
  {
   "cell_type": "markdown",
   "metadata": {
    "deletable": true,
    "editable": true
   },
   "source": [
    "## Data Generation"
   ]
  },
  {
   "cell_type": "code",
   "execution_count": 181,
   "metadata": {
    "collapsed": false,
    "deletable": true,
    "editable": true
   },
   "outputs": [],
   "source": [
    "alphabets = 'pwjlvcqrxhgiouymnfadztebsk' # Shuffled\n",
    "\n",
    "vocab_to_int = {c: i+1 for i, c in enumerate(list(alphabets))}\n",
    "START_TOKEN = 0\n",
    "vocab_to_int['<s>'] = START_TOKEN\n",
    "int_to_vocab = {i: c for c, i in vocab_to_int.items()}\n",
    "\n",
    "X_train_chars, y_train_chars = datahelper.get_random_chars(160000, length=max_length)\n",
    "X_test_chars, y_test_chars = datahelper.get_random_chars(16000, length=max_length)\n",
    "\n",
    "X_train = [[vocab_to_int[c] for c in list(chars)] for chars in X_train_chars]\n",
    "y_train = [[vocab_to_int[c] for c in list(chars)] for chars in y_train_chars]\n",
    "X_test = [[vocab_to_int[c] for c in list(chars)] for chars in X_test_chars]\n",
    "y_test = [[vocab_to_int[c] for c in list(chars)] for chars in y_test_chars]"
   ]
  },
  {
   "cell_type": "markdown",
   "metadata": {
    "deletable": true,
    "editable": true
   },
   "source": [
    "## Graph Creation"
   ]
  },
  {
   "cell_type": "markdown",
   "metadata": {
    "deletable": true,
    "editable": true
   },
   "source": [
    "### Reset Graph"
   ]
  },
  {
   "cell_type": "code",
   "execution_count": 182,
   "metadata": {
    "collapsed": true,
    "deletable": true,
    "editable": true
   },
   "outputs": [],
   "source": [
    "tf.reset_default_graph()"
   ]
  },
  {
   "cell_type": "markdown",
   "metadata": {
    "deletable": true,
    "editable": true
   },
   "source": [
    "### Initializers"
   ]
  },
  {
   "cell_type": "code",
   "execution_count": 183,
   "metadata": {
    "collapsed": true,
    "deletable": true,
    "editable": true
   },
   "outputs": [],
   "source": [
    "orthogonal_init = tf.orthogonal_initializer()\n",
    "normal_dense_init = tf.truncated_normal_initializer(mean=0.0, stddev=0.001)\n",
    "normal_init = tf.truncated_normal_initializer(mean=0.0, stddev=0.01)\n",
    "zero_init = tf.zeros_initializer()"
   ]
  },
  {
   "cell_type": "markdown",
   "metadata": {
    "deletable": true,
    "editable": true
   },
   "source": [
    "### Input & Target Placeholders"
   ]
  },
  {
   "cell_type": "code",
   "execution_count": 184,
   "metadata": {
    "collapsed": false,
    "deletable": true,
    "editable": true
   },
   "outputs": [],
   "source": [
    "X = [tf.placeholder(tf.int32, (batch_size,), \"X_{}\".format(i)) for i in range(max_length)]\n",
    "y = [tf.placeholder(tf.int32, (batch_size,), \"y_{}\".format(i)) for i in range(max_length)]\n",
    "is_inference = tf.placeholder(tf.bool, name=\"is_inference\")"
   ]
  },
  {
   "cell_type": "markdown",
   "metadata": {
    "deletable": true,
    "editable": true
   },
   "source": [
    "### Encoder Embedding"
   ]
  },
  {
   "cell_type": "code",
   "execution_count": 185,
   "metadata": {
    "collapsed": false,
    "deletable": true,
    "editable": true
   },
   "outputs": [],
   "source": [
    "X_embed = tf.get_variable(\"X_embed\", [X_vocab_size, embed_size])"
   ]
  },
  {
   "cell_type": "markdown",
   "metadata": {
    "deletable": true,
    "editable": true
   },
   "source": [
    "### Encoder Parameters"
   ]
  },
  {
   "cell_type": "code",
   "execution_count": 186,
   "metadata": {
    "collapsed": false,
    "deletable": true,
    "editable": true
   },
   "outputs": [],
   "source": [
    "# Forward\n",
    "W_forward = tf.get_variable(\"W_forward\", \n",
    "                            [embed_size, rnn_hidden_unit], \n",
    "                            initializer=normal_init)\n",
    "W_forward_z = tf.get_variable(\"W_forward_z\", \n",
    "                              [embed_size, rnn_hidden_unit], \n",
    "                              initializer=normal_init)\n",
    "W_forward_r = tf.get_variable(\"W_forward_r\", \n",
    "                              [embed_size, rnn_hidden_unit], \n",
    "                              initializer=normal_init)\n",
    "\n",
    "U_forward = tf.get_variable(\"U_forward\", \n",
    "                            [rnn_hidden_unit, rnn_hidden_unit], \n",
    "                            initializer=orthogonal_init)\n",
    "U_forward_z = tf.get_variable(\"U_forward_z\", \n",
    "                              [rnn_hidden_unit, rnn_hidden_unit], \n",
    "                              initializer=orthogonal_init)\n",
    "U_forward_r = tf.get_variable(\"U_forward_r\", \n",
    "                              [rnn_hidden_unit, rnn_hidden_unit], \n",
    "                              initializer=orthogonal_init)\n",
    "\n",
    "b_forward_h = tf.get_variable(\"b_forward_h\", shape=(rnn_hidden_unit,), initializer=zero_init)\n",
    "b_forward_z = tf.get_variable(\"b_forward_z\", shape=(rnn_hidden_unit,), initializer=zero_init)\n",
    "b_forward_r = tf.get_variable(\"b_forward_r\", shape=(rnn_hidden_unit,), initializer=zero_init)\n",
    "\n",
    "# Backward\n",
    "W_backward = tf.get_variable(\"W_backward\", \n",
    "                             [embed_size, rnn_hidden_unit], \n",
    "                             initializer=normal_init)\n",
    "W_backward_z = tf.get_variable(\"W_backward_z\", \n",
    "                               [embed_size, rnn_hidden_unit], \n",
    "                               initializer=normal_init)\n",
    "W_backward_r = tf.get_variable(\"W_backward_r\", \n",
    "                               [embed_size, rnn_hidden_unit], \n",
    "                               initializer=normal_init)\n",
    "\n",
    "U_backward = tf.get_variable(\"U_backward\", \n",
    "                             [rnn_hidden_unit, rnn_hidden_unit],\n",
    "                             initializer=orthogonal_init)\n",
    "U_backward_z = tf.get_variable(\"U_backward_z\",\n",
    "                               [rnn_hidden_unit, rnn_hidden_unit],\n",
    "                               initializer=orthogonal_init)\n",
    "U_backward_r = tf.get_variable(\"U_backward_r\",\n",
    "                               [rnn_hidden_unit, rnn_hidden_unit],\n",
    "                               initializer=orthogonal_init)\n",
    "\n",
    "b_backward_h = tf.get_variable(\"b_backward_h\", shape=(rnn_hidden_unit,), initializer=zero_init)\n",
    "b_backward_z = tf.get_variable(\"b_backward_z\", shape=(rnn_hidden_unit,), initializer=zero_init)\n",
    "b_backward_r = tf.get_variable(\"b_backward_r\", shape=(rnn_hidden_unit,), initializer=zero_init)"
   ]
  },
  {
   "cell_type": "markdown",
   "metadata": {
    "deletable": true,
    "editable": true
   },
   "source": [
    "### Encoder Forward"
   ]
  },
  {
   "cell_type": "code",
   "execution_count": 187,
   "metadata": {
    "collapsed": false,
    "deletable": true,
    "editable": true
   },
   "outputs": [],
   "source": [
    "h_forward = []\n",
    "h_forward_init = tf.zeros([batch_size, rnn_hidden_unit], name=\"h_forward_init\")\n",
    "\n",
    "for i, x_i in enumerate(X):\n",
    "    Ex_i = tf.nn.embedding_lookup(X_embed, x_i)\n",
    "    h_i_prev = h_forward[i-1] if i > 0 else h_forward_init\n",
    "    z_i = tf.sigmoid(tf.matmul(Ex_i, W_forward_z) +\n",
    "                     tf.matmul(h_i_prev, U_forward_z) + \n",
    "                     b_forward_z)\n",
    "    r_i = tf.sigmoid(tf.matmul(Ex_i, W_forward_r) +\n",
    "                     tf.matmul(h_i_prev, U_forward_r) +\n",
    "                     b_forward_r)\n",
    "    h__i = tf.tanh(tf.matmul(Ex_i, W_forward) +\n",
    "                   tf.matmul(tf.multiply(r_i, h_i_prev), U_forward) +\n",
    "                   b_forward_h)\n",
    "    h_i = tf.add(tf.multiply((1 - z_i), h_i_prev), \n",
    "                 tf.multiply(z_i, h__i), \n",
    "                 name=\"h_forward_{}\".format(i))\n",
    "    h_forward.append(h_i)"
   ]
  },
  {
   "cell_type": "markdown",
   "metadata": {
    "deletable": true,
    "editable": true
   },
   "source": [
    "### Encoder Backward"
   ]
  },
  {
   "cell_type": "code",
   "execution_count": 188,
   "metadata": {
    "collapsed": false,
    "deletable": true,
    "editable": true
   },
   "outputs": [],
   "source": [
    "h_backward = [None for i in range(len(X))]\n",
    "h_backward_init = tf.zeros([batch_size, rnn_hidden_unit], name=\"h_backward_init\")\n",
    "\n",
    "for i, x_i in reversed(list(enumerate(X))):\n",
    "    Ex_i = tf.nn.embedding_lookup(X_embed, x_i)\n",
    "    h_i_prev = h_backward[i+1] if i < len(X)-1 else h_backward_init\n",
    "    z_i = tf.sigmoid(tf.matmul(Ex_i, W_backward_z) + \n",
    "                     tf.matmul(h_i_prev, U_backward_z) + \n",
    "                     b_backward_z)\n",
    "    r_i = tf.sigmoid(tf.matmul(Ex_i, W_backward_r) + \n",
    "                     tf.matmul(h_i_prev, U_backward_r) + \n",
    "                     b_backward_r)\n",
    "    h__i = tf.tanh(tf.matmul(Ex_i, W_backward) + \n",
    "                   tf.matmul(tf.multiply(r_i, h_i_prev), U_backward) + \n",
    "                   b_backward_h)\n",
    "    h_i = tf.add(tf.multiply((1 - z_i), h_i_prev), \n",
    "                 tf.multiply(z_i, h__i), \n",
    "                 name=\"h_backward_{}\".format(i))\n",
    "    h_backward[i] = h_i"
   ]
  },
  {
   "cell_type": "markdown",
   "metadata": {
    "deletable": true,
    "editable": true
   },
   "source": [
    "### Annotations"
   ]
  },
  {
   "cell_type": "code",
   "execution_count": 189,
   "metadata": {
    "collapsed": false,
    "deletable": true,
    "editable": true
   },
   "outputs": [],
   "source": [
    "h = [tf.concat([h_forward_i, h_backward_i], axis=1, name=\"h_{}\".format(i)) \n",
    "     for i, (h_forward_i, h_backward_i) in enumerate(zip(h_forward, h_backward))]"
   ]
  },
  {
   "cell_type": "markdown",
   "metadata": {
    "deletable": true,
    "editable": true
   },
   "source": [
    "### Decoder Embedding"
   ]
  },
  {
   "cell_type": "code",
   "execution_count": 190,
   "metadata": {
    "collapsed": true,
    "deletable": true,
    "editable": true
   },
   "outputs": [],
   "source": [
    "y_embed = tf.get_variable('y_embed', [y_vocab_size, embed_size])"
   ]
  },
  {
   "cell_type": "markdown",
   "metadata": {
    "deletable": true,
    "editable": true
   },
   "source": [
    "### Decoder RNN with GRU Parameters"
   ]
  },
  {
   "cell_type": "code",
   "execution_count": 191,
   "metadata": {
    "collapsed": false,
    "deletable": true,
    "editable": true
   },
   "outputs": [],
   "source": [
    "W_dec = tf.get_variable(\"W_dec\", [embed_size, rnn_hidden_unit], initializer=normal_init)\n",
    "W_dec_z = tf.get_variable(\"W_dec_z\", [embed_size, rnn_hidden_unit], initializer=normal_init)\n",
    "W_dec_r = tf.get_variable(\"W_dec_r\", [embed_size, rnn_hidden_unit], initializer=normal_init)\n",
    "\n",
    "U_dec = tf.get_variable(\"U_dec\", \n",
    "                        [rnn_hidden_unit, rnn_hidden_unit], \n",
    "                        initializer=orthogonal_init)\n",
    "U_dec_z = tf.get_variable(\"U_dec_z\", \n",
    "                          [rnn_hidden_unit, rnn_hidden_unit], \n",
    "                          initializer=orthogonal_init)\n",
    "U_dec_r = tf.get_variable(\"U_dec_r\", \n",
    "                          [rnn_hidden_unit, rnn_hidden_unit], \n",
    "                          initializer=orthogonal_init)\n",
    "\n",
    "C_dec = tf.get_variable(\"C_dec\", \n",
    "                        [rnn_hidden_unit*2, rnn_hidden_unit], \n",
    "                        initializer=normal_init)\n",
    "C_dec_z = tf.get_variable(\"C_dec_z\", \n",
    "                          [rnn_hidden_unit*2, rnn_hidden_unit], \n",
    "                          initializer=normal_init)\n",
    "C_dec_r = tf.get_variable(\"C_dec_r\", \n",
    "                          [rnn_hidden_unit*2, rnn_hidden_unit],\n",
    "                          initializer=normal_init)\n",
    "\n",
    "b_dec_s = tf.get_variable(\"b_dec_h\", shape=(rnn_hidden_unit,), initializer=zero_init)\n",
    "b_dec_z = tf.get_variable(\"b_dec_z\", shape=(rnn_hidden_unit,), initializer=zero_init)\n",
    "b_dec_r = tf.get_variable(\"b_dec_r\", shape=(rnn_hidden_unit,), initializer=zero_init)"
   ]
  },
  {
   "cell_type": "markdown",
   "metadata": {
    "deletable": true,
    "editable": true
   },
   "source": [
    "### Alignments Parameters"
   ]
  },
  {
   "cell_type": "code",
   "execution_count": 192,
   "metadata": {
    "collapsed": false,
    "deletable": true,
    "editable": true
   },
   "outputs": [],
   "source": [
    "W_s = tf.get_variable(\"W_s\", \n",
    "                      [rnn_hidden_unit, rnn_hidden_unit], \n",
    "                      initializer=normal_init)\n",
    "b_s = tf.get_variable(\"b_s\", \n",
    "                      shape=(rnn_hidden_unit,),\n",
    "                      initializer=zero_init)\n",
    "\n",
    "W_a = tf.get_variable(\"W_a\", \n",
    "                      [rnn_hidden_unit, align_hidden_unit], \n",
    "                      initializer=normal_dense_init)\n",
    "U_a = tf.get_variable(\"U_a\", \n",
    "                      [rnn_hidden_unit*2, align_hidden_unit],\n",
    "                      initializer=normal_dense_init)\n",
    "b_a = tf.get_variable(\"b_a\", \n",
    "                      shape=(align_hidden_unit,), \n",
    "                      initializer=zero_init)\n",
    "v_a = tf.get_variable(\"v_a\", \n",
    "                      [1, align_hidden_unit], \n",
    "                      initializer=zero_init)"
   ]
  },
  {
   "cell_type": "markdown",
   "metadata": {
    "deletable": true,
    "editable": true
   },
   "source": [
    "### Output Parameters"
   ]
  },
  {
   "cell_type": "code",
   "execution_count": 193,
   "metadata": {
    "collapsed": false,
    "deletable": true,
    "editable": true
   },
   "outputs": [],
   "source": [
    "W_o = tf.get_variable(\"W_o\", [maxout_hidden_unit, y_vocab_size], initializer=normal_init)\n",
    "b_wt = tf.get_variable(\"b_wt\", (y_vocab_size,), initializer=zero_init)\n",
    "U_o = tf.get_variable(\"U_o\", [rnn_hidden_unit, maxout_hidden_unit*2], initializer=normal_init)\n",
    "V_o = tf.get_variable(\"V_o\", [embed_size, maxout_hidden_unit*2], initializer=normal_init)\n",
    "C_o = tf.get_variable(\"C_o\", [rnn_hidden_unit*2, maxout_hidden_unit*2], initializer=normal_init)\n",
    "b_o = tf.get_variable(\"b_o\", (rnn_hidden_unit,), initializer=zero_init)"
   ]
  },
  {
   "cell_type": "markdown",
   "metadata": {
    "deletable": true,
    "editable": true
   },
   "source": [
    "### Decoder"
   ]
  },
  {
   "cell_type": "code",
   "execution_count": 194,
   "metadata": {
    "collapsed": false,
    "deletable": true,
    "editable": true
   },
   "outputs": [],
   "source": [
    "s = []\n",
    "s_init = tf.tanh(tf.matmul(h_backward[0], W_s), name=\"s_init\")\n",
    "y_init = tf.fill(y[0].shape, START_TOKEN, name=\"y_init\")\n",
    "y_preds = []\n",
    "logits = []\n",
    "\n",
    "for i, y_i in enumerate(y):\n",
    "    # teacher forcing when training\n",
    "    y_i_prev = tf.cond(is_inference, \n",
    "                       lambda: tf.cast(y_preds[i-1], tf.int32), \n",
    "                       lambda: tf.cast(y[i-1], tf.int32)) if i > 0 else y_init\n",
    "    s_i_prev = s[i-1] if i > 0 else s_init\n",
    "    \n",
    "    # Creation of context vector\n",
    "    e_i = []\n",
    "    for j, h_j in enumerate(h):\n",
    "        e_i_j = tf.matmul(\n",
    "            tf.tanh(tf.matmul(s_i_prev, W_a) + tf.matmul(h_j, U_a) + b_a),\n",
    "            tf.transpose(v_a),\n",
    "            name=\"e_{}_{}\".format(i, j))\n",
    "        e_i.append(e_i_j)\n",
    "    e_i_sum = tf.reduce_sum(tf.exp(e_i), axis=0)\n",
    "    alpha_i = [tf.multiply(tf.exp(e_ij), 1/e_i_sum, name=\"alpha_{}_{}\".format(i, j)) \n",
    "               for j, e_ij in enumerate(e_i)]\n",
    "    weighted_c_i = [tf.multiply(alpha_i_j, h_j) for alpha_i_j, h_j in zip(alpha_i, h)]\n",
    "    c_i = tf.reduce_sum(weighted_c_i, axis=0, name=\"c_{}\".format(i))\n",
    "    \n",
    "    Ey_i_prev = tf.nn.embedding_lookup(y_embed, y_i_prev)\n",
    "    z_i = tf.sigmoid(tf.matmul(Ey_i_prev, W_dec_z) + \n",
    "                    tf.matmul(s_i_prev, U_dec_z) +\n",
    "                    tf.matmul(c_i, C_dec_z) +\n",
    "                    b_dec_z)\n",
    "    r_i = tf.sigmoid(tf.matmul(Ey_i_prev, W_dec_r) + \n",
    "                    tf.matmul(s_i_prev, U_dec_r) +\n",
    "                    tf.matmul(c_i, C_dec_r) +\n",
    "                    b_dec_r)\n",
    "    s__i = tf.tanh(tf.matmul(Ey_i_prev, W_dec) +\n",
    "                  tf.matmul(tf.multiply(r_i, s_i_prev), U_dec) +\n",
    "                  tf.matmul(c_i, C_dec)+\n",
    "                  b_dec_s)\n",
    "    s_i = tf.add(tf.multiply(1-z_i, s_i_prev), tf.multiply(z_i, s__i), name=\"s_{}\".format(i))\n",
    "    s.append(s_i)\n",
    "    \n",
    "    t__i = tf.matmul(s_i_prev, U_o) + tf.matmul(Ey_i_prev, V_o) + tf.matmul(c_i, C_o) + b_o\n",
    "    t_i = tf.contrib.layers.maxout(t__i, maxout_hidden_unit, axis=1, name=\"t_{}\".format(i))\n",
    "    logit = tf.add(tf.matmul(t_i, W_o), b_wt, name=\"logit_{}\".format(i))\n",
    "    logits.append(logit)\n",
    "    y_pred = tf.argmax(tf.nn.softmax(logit), axis=1)\n",
    "    y_preds.append(y_pred)\n",
    "\n",
    "y_preds = tf.stack(y_preds, axis=1, name=\"y_preds\")"
   ]
  },
  {
   "cell_type": "markdown",
   "metadata": {
    "deletable": true,
    "editable": true
   },
   "source": [
    "### Optimization"
   ]
  },
  {
   "cell_type": "code",
   "execution_count": 195,
   "metadata": {
    "collapsed": false,
    "deletable": true,
    "editable": true
   },
   "outputs": [],
   "source": [
    "losses = [tf.nn.sparse_softmax_cross_entropy_with_logits(labels=label, logits=logit)\n",
    "          for logit, label in zip(logits, y)]\n",
    "total_loss = tf.reduce_mean(losses)\n",
    "\n",
    "optimizer = tf.train.AdadeltaOptimizer(learning_rate=1.0, rho=0.95, epsilon=10e-6)\n",
    "gradients = optimizer.compute_gradients(total_loss)\n",
    "clipped_grad = [(tf.clip_by_norm(grad, 1.), var) for grad, var in gradients if grad is not None]\n",
    "train_op = optimizer.apply_gradients(clipped_grad)"
   ]
  },
  {
   "cell_type": "markdown",
   "metadata": {
    "deletable": true,
    "editable": true
   },
   "source": [
    "### Session Helper Functions"
   ]
  },
  {
   "cell_type": "code",
   "execution_count": 196,
   "metadata": {
    "collapsed": true,
    "deletable": true,
    "editable": true
   },
   "outputs": [],
   "source": [
    "def get_batches(X_train, y_train, batch_size):\n",
    "    for i in range(0, len(X_train), batch_size):\n",
    "        yield X_train[i:i+batch_size], y_train[i:i+batch_size]\n",
    "\n",
    "def create_feed_dict(X_pls, y_pls, X_batch, y_batch):\n",
    "    X_batch_array = np.array(X_batch)\n",
    "    y_batch_array = np.array(y_batch)\n",
    "    \n",
    "    feed_dict = {}\n",
    "    for i, (X_p, y_p) in enumerate(zip(X_pls, y_pls)):\n",
    "        feed_dict[X_p] = X_batch_array[:, i]\n",
    "        feed_dict[y_p] = y_batch_array[:, i]\n",
    "    \n",
    "    return feed_dict\n",
    "\n",
    "def get_accuracy(predictions, targets):\n",
    "    return np.sum(np.all(predictions == targets, axis=1)) / len(predictions)"
   ]
  },
  {
   "cell_type": "markdown",
   "metadata": {
    "deletable": true,
    "editable": true
   },
   "source": [
    "### Session"
   ]
  },
  {
   "cell_type": "code",
   "execution_count": 197,
   "metadata": {
    "collapsed": false,
    "deletable": true,
    "editable": true
   },
   "outputs": [
    {
     "name": "stdout",
     "output_type": "stream",
     "text": [
      "Epoch: 0 / Train Loss: 3.295853614807129 / Test Loss: 3.2951619625091553\n",
      "Epoch: 0 / Train Loss: 1.1024222373962402 / Test Loss: 1.108607292175293\n",
      "Epoch: 1 / Train Loss: 0.8943943381309509 / Test Loss: 0.8642669916152954\n",
      "Epoch: 1 / Train Loss: 0.6416109800338745 / Test Loss: 0.6267961859703064\n",
      "Epoch: 2 / Train Loss: 0.35798463225364685 / Test Loss: 0.3290613293647766\n",
      "Epoch: 2 / Train Loss: 0.3765608072280884 / Test Loss: 0.3036957383155823\n",
      "Epoch: 3 / Train Loss: 0.044456858187913895 / Test Loss: 0.04076521471142769\n",
      "Epoch: 3 / Train Loss: 0.022236792370676994 / Test Loss: 0.020220382139086723\n",
      "Epoch: 4 / Train Loss: 0.01481388695538044 / Test Loss: 0.013760560192167759\n",
      "Epoch: 4 / Train Loss: 0.009242228232324123 / Test Loss: 0.009285565465688705\n",
      "#### Model Saved! ####\n"
     ]
    }
   ],
   "source": [
    "train_loss = []\n",
    "train_acc = []\n",
    "test_loss = []\n",
    "test_acc = []\n",
    "init = tf.global_variables_initializer()\n",
    "\n",
    "ckpt = './model.ckpt'\n",
    "with tf.Session() as sess:\n",
    "    saver = tf.train.Saver()\n",
    "    sess.run(init)\n",
    "    \n",
    "    for e in range(epoch):\n",
    "        for i, (X_batch, y_batch) in enumerate(get_batches(X_train, y_train, batch_size)):\n",
    "            feed_dict = create_feed_dict(X, y, X_batch, y_batch)\n",
    "            feed_dict[is_inference] = False\n",
    "            predictions, cost, _ = sess.run([y_preds, total_loss, train_op], feed_dict=feed_dict)\n",
    "\n",
    "            if i % 100 == 0:\n",
    "                train_loss.append(cost)\n",
    "                acc_val = get_accuracy(predictions, y_batch)\n",
    "                train_acc.append(acc_val)\n",
    "            if i % 1000 == 0:\n",
    "                temp_test_loss = []\n",
    "                temp_test_acc = []\n",
    "                for X_test_batch, y_test_batch in get_batches(X_test, y_test, batch_size):\n",
    "                    test_feed_dict = create_feed_dict(X, y, X_test_batch, y_test_batch)\n",
    "                    test_feed_dict[is_inference] = False\n",
    "                    test_predictions, test_cost = sess.run([y_preds, total_loss], \n",
    "                                                           feed_dict = test_feed_dict)\n",
    "                    temp_test_loss.append(test_cost)\n",
    "                    temp_test_acc_val = get_accuracy(test_predictions, y_test_batch)\n",
    "                    temp_test_acc.append(temp_test_acc_val)\n",
    "                test_loss.append(np.mean(temp_test_loss))\n",
    "                test_acc.append(np.mean(temp_test_acc))\n",
    "                \n",
    "                print(\"Epoch: {} / Train Loss: {} / Test Loss: {}\".format(e, cost, test_cost))\n",
    "    \n",
    "    saver.save(sess, ckpt)\n",
    "    print(\"#### Model Saved! ####\")"
   ]
  },
  {
   "cell_type": "markdown",
   "metadata": {},
   "source": [
    "## Plots"
   ]
  },
  {
   "cell_type": "code",
   "execution_count": 202,
   "metadata": {
    "collapsed": false
   },
   "outputs": [
    {
     "data": {
      "text/plain": [
       "<matplotlib.text.Text at 0x1aaa67240>"
      ]
     },
     "execution_count": 202,
     "metadata": {},
     "output_type": "execute_result"
    },
    {
     "data": {
      "image/png": "[encoded data removed]",
      "text/plain": [
       "<matplotlib.figure.Figure at 0x126ed4208>"
      ]
     },
     "metadata": {},
     "output_type": "display_data"
    },
    {
     "data": {
      "image/png": "[encoded data removed]",
      "text/plain": [
       "<matplotlib.figure.Figure at 0x1a9c8bef0>"
      ]
     },
     "metadata": {},
     "output_type": "display_data"
    }
   ],
   "source": [
    "plt.figure(1)\n",
    "plt.subplot(221)\n",
    "plt.plot(np.arange(len(train_loss)) * 100, train_loss)\n",
    "plt.title('Train Loss')\n",
    "\n",
    "plt.subplot(222)\n",
    "plt.plot(np.arange(len(train_acc)) * 100, train_acc)\n",
    "plt.title('Train Accuracy')\n",
    "\n",
    "plt.figure(2)\n",
    "plt.subplot(221)\n",
    "plt.plot(np.arange(len(test_loss)) * 1000, test_loss)\n",
    "plt.title('Test Loss')\n",
    "\n",
    "plt.subplot(222)\n",
    "plt.plot(np.arange(len(test_acc)) * 1000, test_acc)\n",
    "plt.title('Test Accuracy')"
   ]
  },
  {
   "cell_type": "markdown",
   "metadata": {},
   "source": [
    "## Inference Function"
   ]
  },
  {
   "cell_type": "code",
   "execution_count": 199,
   "metadata": {
    "collapsed": false
   },
   "outputs": [],
   "source": [
    "def predict(text):\n",
    "    text = text[:max_length]\n",
    "    X_infer_batch = [[vocab_to_int[c] for c in list(text)] for i in range(batch_size)]\n",
    "    y_infer_batch = np.zeros([batch_size, max_length]) # target is not necessary when inference\n",
    "\n",
    "    infer_graph = tf.Graph()\n",
    "    with tf.Session(graph=infer_graph) as sess:\n",
    "        loader = tf.train.import_meta_graph(ckpt + '.meta')\n",
    "        loader.restore(sess, ckpt)\n",
    "\n",
    "        # Placeholder\n",
    "        X_infer_pls = [infer_graph.get_tensor_by_name(\"X_{}:0\".format(i)) \n",
    "                       for i in range(max_length)]\n",
    "        y_infer_pls = [infer_graph.get_tensor_by_name(\"y_{}:0\".format(i)) \n",
    "                       for i in range(max_length)]\n",
    "        _is_inference = infer_graph.get_tensor_by_name(\"is_inference:0\")\n",
    "\n",
    "        infer_feed_dict = create_feed_dict(X_infer_pls, y_infer_pls, \n",
    "                                           X_infer_batch, y_infer_batch)\n",
    "        infer_feed_dict[_is_inference] = True\n",
    "\n",
    "        # Logit\n",
    "        y_preds = infer_graph.get_tensor_by_name(\"y_preds:0\")\n",
    "        prediction = sess.run(y_preds, feed_dict=infer_feed_dict)\n",
    "        \n",
    "        return ''.join([int_to_vocab[n] for n in prediction[0]])"
   ]
  },
  {
   "cell_type": "markdown",
   "metadata": {},
   "source": [
    "## Predict whatever you want"
   ]
  },
  {
   "cell_type": "code",
   "execution_count": 201,
   "metadata": {
    "collapsed": false
   },
   "outputs": [
    {
     "name": "stdout",
     "output_type": "stream",
     "text": [
      "INFO:tensorflow:Restoring parameters from ./model.ckpt\n",
      "bbbbbeeegghhhiiiimmoooooqqwwwz\n"
     ]
    }
   ],
   "source": [
    "print(predict('qboieboqmgowheibowmebiwhgozibh')) # answer is \"bbbbbeeegghhhiiiimmoooooqqwwwz\""
   ]
  }
 ],
 "metadata": {
  "kernelspec": {
   "display_name": "Python 3",
   "language": "python",
   "name": "python3"
  },
  "language_info": {
   "codemirror_mode": {
    "name": "ipython",
    "version": 3
   },
   "file_extension": ".py",
   "mimetype": "text/x-python",
   "name": "python",
   "nbconvert_exporter": "python",
   "pygments_lexer": "ipython3",
   "version": "3.6.0"
  }
 },
 "nbformat": 4,
 "nbformat_minor": 2
}
